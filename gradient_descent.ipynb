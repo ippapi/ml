{
 "cells": [
  {
   "cell_type": "code",
   "execution_count": 2,
   "metadata": {},
   "outputs": [],
   "source": [
    "from __future__ import division, print_function, unicode_literals\n",
    "import math\n",
    "import numpy as np \n",
    "import matplotlib.pyplot as plt\n",
    "np.random.seed(2)"
   ]
  },
  {
   "cell_type": "code",
   "execution_count": 4,
   "metadata": {},
   "outputs": [
    {
     "name": "stdout",
     "output_type": "stream",
     "text": [
      "formula ans: w =  [[2.99177204 4.01021115]]\n",
      "gradient_descent ans:  [[3.00659016 3.98257704]]\n"
     ]
    }
   ],
   "source": [
    "#create linear function\n",
    "a = int(input(\"a: \"))\n",
    "b = int(input(\"b: \"))\n",
    "N = int(input(\"data num: \"))\n",
    "\n",
    "#generate data\n",
    "X = np.random.rand(N, 1)\n",
    "y = a * X + b + .2*np.random.randn(N, 1)\n",
    "\n",
    "#formula answer \n",
    "one = np.ones((N, 1))\n",
    "Xbar = np.concatenate((one, X), axis = 1)\n",
    "\n",
    "A = Xbar.T.dot(Xbar)\n",
    "B = Xbar.T.dot(y)\n",
    "W_lr = np.linalg.pinv(A).dot(B)\n",
    "print(\"formula ans: w = \", W_lr.T)\n",
    "#linear function y = ax + b => loss function: 1/2N * |y - X.W|^2\n",
    "def gradient_cal(W_lr):\n",
    "    return 1/N *  Xbar.T.dot(Xbar.dot(W_lr) - y)\n",
    "\n",
    "def func_cal(W_lr):\n",
    "    return .5/N*np.linalg.norm(y - Xbar.dot(W_lr), 2)**2\n",
    "\n",
    "def gradient_descent(w0, gradient_cal, eta):\n",
    "    w = [w0]\n",
    "    for n in range(100):\n",
    "        w_new = w[-1] - eta * gradient_cal(w[-1])\n",
    "        if np.linalg.norm(gradient_cal(w_new)) / len(w_new) < 1e-3:\n",
    "            break \n",
    "        w.append(w_new)\n",
    "    return (w, n)\n",
    "\n",
    "w0 = np.array([[2], [1]])\n",
    "(w1, n) = gradient_descent(w0, gradient_cal, 1)\n",
    "print(\"gradient_descent ans: \", w1[-1].T)"
   ]
  }
 ],
 "metadata": {
  "kernelspec": {
   "display_name": "Python 3",
   "language": "python",
   "name": "python3"
  },
  "language_info": {
   "codemirror_mode": {
    "name": "ipython",
    "version": 3
   },
   "file_extension": ".py",
   "mimetype": "text/x-python",
   "name": "python",
   "nbconvert_exporter": "python",
   "pygments_lexer": "ipython3",
   "version": "3.11.5"
  }
 },
 "nbformat": 4,
 "nbformat_minor": 2
}
